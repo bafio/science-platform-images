{
 "cells": [
  {
   "cell_type": "code",
   "execution_count": 1,
   "id": "c466a610-fe2b-4db9-a26a-d5f7dd84f4f2",
   "metadata": {},
   "outputs": [
    {
     "name": "stderr",
     "output_type": "stream",
     "text": [
      "OpenBLAS WARNING - could not determine the L2 cache size on this system, assuming 256k\n",
      "OpenBLAS WARNING - could not determine the L2 cache size on this system, assuming 256k\n",
      "OpenBLAS WARNING - could not determine the L2 cache size on this system, assuming 256k\n"
     ]
    },
    {
     "data": {
      "text/plain": [
       "Text(0, 0.5, 'Relative flux')"
      ]
     },
     "execution_count": 1,
     "metadata": {},
     "output_type": "execute_result"
    },
    {
     "data": {
      "image/png": "[encoded data removed]",
      "text/plain": [
       "<Figure size 640x480 with 1 Axes>"
      ]
     },
     "metadata": {},
     "output_type": "display_data"
    }
   ],
   "source": [
    "import juliet\n",
    "import numpy as np\n",
    "# First, get times, normalized-fluxes and errors for TOI-141 from MAST:\n",
    "t,f,ferr  = juliet.get_TESS_data('https://archive.stsci.edu/hlsps/tess-data-alerts/'+\\\n",
    "                                 'hlsp_tess-data-alerts_tess_phot_00403224672-'+\\\n",
    "                                 's01_tess_v1_lc.fits')\n",
    "\n",
    "# Plot the data!\n",
    "import matplotlib.pyplot as plt\n",
    "plt.errorbar(t,f,yerr=ferr,fmt='.')\n",
    "\n",
    "plt.xlim([np.min(t),np.max(t)])\n",
    "plt.ylim([0.999,1.001])\n",
    "plt.xlabel('Time (BJD - 2457000)')\n",
    "plt.ylabel('Relative flux')"
   ]
  },
  {
   "cell_type": "code",
   "execution_count": 2,
   "id": "73d4b180-8bf2-4cd2-8ac2-6132270d62c8",
   "metadata": {},
   "outputs": [],
   "source": [
    "# Create dictionaries:\n",
    "times, fluxes, fluxes_error = {},{},{}\n",
    "# Save data into those dictionaries:\n",
    "times['TESS'], fluxes['TESS'], fluxes_error['TESS'] = t,f,ferr\n",
    "# If you had data from other instruments you would simply do, e.g.,\n",
    "# times['K2'], fluxes['K2'], fluxes_error['K2'] = t_k2,f_k2,ferr_k2"
   ]
  },
  {
   "cell_type": "code",
   "execution_count": 3,
   "id": "ad409cbe-4edb-4ec5-abfe-32e237ab020a",
   "metadata": {},
   "outputs": [],
   "source": [
    "priors = {}\n",
    "\n",
    "# Name of the parameters to be fit:\n",
    "params = ['P_p1','t0_p1','r1_p1','r2_p1','q1_TESS','q2_TESS','ecc_p1','omega_p1',\\\n",
    "              'rho', 'mdilution_TESS', 'mflux_TESS', 'sigma_w_TESS']\n",
    "\n",
    "# Distribution for each of the parameters:\n",
    "dists = ['normal','normal','uniform','uniform','uniform','uniform','fixed','fixed',\\\n",
    "                 'loguniform', 'fixed', 'normal', 'loguniform']\n",
    "\n",
    "# Hyperparameters of the distributions (mean and standard-deviation for normal\n",
    "# distributions, lower and upper limits for uniform and loguniform distributions, and\n",
    "# fixed values for fixed \"distributions\", which assume the parameter is fixed)\n",
    "hyperps = [[1.,0.1], [1325.55,0.1], [0.,1], [0.,1.], [0., 1.], [0., 1.], 0.0, 90.,\\\n",
    "                   [100., 10000.], 1.0, [0.,0.1], [0.1, 1000.]]\n",
    "\n",
    "# Populate the priors dictionary:\n",
    "for param, dist, hyperp in zip(params, dists, hyperps):\n",
    "    priors[param] = {}\n",
    "    priors[param]['distribution'], priors[param]['hyperparameters'] = dist, hyperp\n"
   ]
  },
  {
   "cell_type": "code",
   "execution_count": null,
   "id": "a2543a3c-17cd-4409-9012-e680671a7c31",
   "metadata": {
    "tags": []
   },
   "outputs": [
    {
     "name": "stdout",
     "output_type": "stream",
     "text": [
      " *****************************************************\n",
      " MultiNest v3.10\n",
      " Copyright Farhan Feroz & Mike Hobson\n",
      " Release Jul 2015\n",
      "\n",
      " no. of live points =  300\n",
      " dimensionality =    9\n",
      " *****************************************************\n",
      "\n",
      " MultiNest Warning!\n",
      " Parameter            4  of mode            1  is converging towards the edge of the prior.\n",
      "\n",
      " MultiNest Warning!\n",
      " Parameter            4  of mode            1  is converging towards the edge of the prior.\n",
      "\n",
      " MultiNest Warning!\n",
      " Parameter            4  of mode            1  is converging towards the edge of the prior.\n",
      "\n",
      " MultiNest Warning!\n",
      " Parameter            4  of mode            1  is converging towards the edge of the prior.\n",
      "\n",
      " MultiNest Warning!\n",
      " Parameter            4  of mode            1  is converging towards the edge of the prior.\n",
      "\n",
      " MultiNest Warning!\n",
      " Parameter            4  of mode            1  is converging towards the edge of the prior.\n",
      "\n",
      " MultiNest Warning!\n",
      " Parameter            4  of mode            1  is converging towards the edge of the prior.\n",
      "\n",
      " MultiNest Warning!\n",
      " Parameter            4  of mode            1  is converging towards the edge of the prior.\n",
      "\n",
      " MultiNest Warning!\n",
      " Parameter            4  of mode            1  is converging towards the edge of the prior.\n",
      "\n",
      " MultiNest Warning!\n",
      " Parameter            4  of mode            1  is converging towards the edge of the prior.\n",
      "\n",
      " MultiNest Warning!\n",
      " Parameter            4  of mode            1  is converging towards the edge of the prior.\n",
      "\n",
      " MultiNest Warning!\n",
      " Parameter            4  of mode            1  is converging towards the edge of the prior.\n",
      "\n",
      " MultiNest Warning!\n",
      " Parameter            4  of mode            1  is converging towards the edge of the prior.\n",
      "\n",
      " MultiNest Warning!\n",
      " Parameter            4  of mode            1  is converging towards the edge of the prior.\n",
      "\n",
      " MultiNest Warning!\n",
      " Parameter            4  of mode            1  is converging towards the edge of the prior.\n",
      "\n",
      " MultiNest Warning!\n",
      " Parameter            4  of mode            1  is converging towards the edge of the prior.\n",
      "\n",
      " MultiNest Warning!\n",
      " Parameter            4  of mode            1  is converging towards the edge of the prior.\n",
      "\n",
      " MultiNest Warning!\n",
      " Parameter            4  of mode            1  is converging towards the edge of the prior.\n",
      "\n",
      " MultiNest Warning!\n",
      " Parameter            4  of mode            1  is converging towards the edge of the prior.\n",
      "\n",
      " MultiNest Warning!\n",
      " Parameter            4  of mode            1  is converging towards the edge of the prior.\n",
      "\n",
      " MultiNest Warning!\n",
      " Parameter            4  of mode            1  is converging towards the edge of the prior.\n",
      "\n",
      " MultiNest Warning!\n",
      " Parameter            4  of mode            1  is converging towards the edge of the prior.\n",
      "\n",
      " MultiNest Warning!\n",
      " Parameter            4  of mode            1  is converging towards the edge of the prior.\n"
     ]
    }
   ],
   "source": [
    "# Load dataset into juliet, save results to a temporary folder called toi141_fit:\n",
    "dataset = juliet.load(priors=priors, t_lc = times, y_lc = fluxes, \\\n",
    "                      yerr_lc = fluxes_error, out_folder = 'toi141_fit')\n",
    "\n",
    "# Fit and absorb results into a juliet.fit object:\n",
    "results = dataset.fit(n_live_points = 300)"
   ]
  },
  {
   "cell_type": "code",
   "execution_count": null,
   "id": "579c2486-2fa2-4039-aebb-1f4ef4f0b031",
   "metadata": {
    "tags": []
   },
   "outputs": [],
   "source": [
    "results"
   ]
  },
  {
   "cell_type": "code",
   "execution_count": null,
   "id": "057aab1a-5f56-4119-8039-79a104650c1f",
   "metadata": {},
   "outputs": [],
   "source": []
  }
 ],
 "metadata": {
  "kernelspec": {
   "display_name": "TESS Environment",
   "language": "python",
   "name": "tess"
  },
  "language_info": {
   "codemirror_mode": {
    "name": "ipython",
    "version": 3
   },
   "file_extension": ".py",
   "mimetype": "text/x-python",
   "name": "python",
   "nbconvert_exporter": "python",
   "pygments_lexer": "ipython3",
   "version": "3.8.17"
  }
 },
 "nbformat": 4,
 "nbformat_minor": 5
}
